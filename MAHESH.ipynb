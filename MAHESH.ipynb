{
 "cells": [
  {
   "cell_type": "code",
   "execution_count": 1,
   "id": "2bd406ff",
   "metadata": {},
   "outputs": [],
   "source": [
    "#importing libraries\n",
    "import numpy as np\n",
    "import pandas as pd\n",
    "from tkinter import *\n",
    "from sklearn.model_selection import StratifiedShuffleSplit"
   ]
  },
  {
   "cell_type": "code",
   "execution_count": 2,
   "id": "8d28a415",
   "metadata": {},
   "outputs": [],
   "source": [
    "from sklearn.pipeline import Pipeline\n",
    "from sklearn.preprocessing import StandardScaler\n",
    "from sklearn.impute import SimpleImputer"
   ]
  },
  {
   "cell_type": "code",
   "execution_count": 3,
   "id": "e0911634",
   "metadata": {},
   "outputs": [],
   "source": [
    "housing = pd.read_csv('house_data_25k.csv')"
   ]
  },
  {
   "cell_type": "code",
   "execution_count": 4,
   "id": "3d0f76c3",
   "metadata": {},
   "outputs": [],
   "source": [
    "split = StratifiedShuffleSplit(n_splits=1, test_size = 0.2 , random_state=40)\n",
    "for train_index,test_index in split.split(housing,housing['waterfront']):\n",
    "    test_set = housing.loc[test_index]\n",
    "    train_set = housing.loc[train_index]"
   ]
  },
  {
   "cell_type": "code",
   "execution_count": 5,
   "id": "d32b3ea2",
   "metadata": {},
   "outputs": [],
   "source": [
    "housing = train_set.copy()\n",
    "housing = train_set.drop(\"price\",axis=1)\n",
    "housing_labels = train_set['price'].copy()"
   ]
  },
  {
   "cell_type": "code",
   "execution_count": 6,
   "id": "5bc2d6ce",
   "metadata": {},
   "outputs": [],
   "source": [
    "my_pipeline = Pipeline([\n",
    "    ('imputer', SimpleImputer(strategy=\"median\")),\n",
    "    ('std_scaler', StandardScaler()),\n",
    "])\n",
    "housing_num_tr = my_pipeline.fit_transform(housing.drop(['id','date','yr_built','yr_renovated','zipcode'],axis=1))"
   ]
  },
  {
   "cell_type": "code",
   "execution_count": 7,
   "id": "ed0aa2d7",
   "metadata": {},
   "outputs": [],
   "source": [
    "housing_test = test_set.copy()\n",
    "housing_test = test_set.drop(\"price\",axis=1)\n",
    "housing_test_labels = test_set['price'].copy()\n",
    "\n",
    "prepared_data = my_pipeline.transform(housing_test.drop(['id','date','yr_built','yr_renovated','zipcode'],axis=1))"
   ]
  },
  {
   "cell_type": "code",
   "execution_count": 8,
   "id": "7ca7e0fb",
   "metadata": {},
   "outputs": [],
   "source": [
    "def gbr():\n",
    "\n",
    "    from sklearn import ensemble\n",
    "\n",
    "    clf1 = ensemble.GradientBoostingRegressor(n_estimators = 400, max_depth = 5, min_samples_split = 2,\n",
    "            learning_rate = 0.1, loss = 'ls')\n",
    "\n",
    "    t = pd.DataFrame(columns = ['bedrooms','bathrooms','sqft_living','sqft_lot','floors','waterfront','view','condition','grade','sqft_above','sqft_basement','lat','long','sqft_living15','sqft_lot15'])\n",
    "    t1 = t.append(pd.Series([Bedroom.get(),Bathroom.get(),Sqft_living.get(),Sqft_lot.get(),Floors.get(),Waterfront.get(),View.get(),Condition.get(),Grade.get(),Sqft_above.get(),Sqft_basement.get(),Lat.get(),Long.get(),Sqft_living15.get(),Sqft_lot15.get()],index=t.columns),ignore_index=True)\n",
    "    t2 = my_pipeline.transform(t1)\n",
    "    clf1.fit(housing_num_tr, housing_labels)\n",
    "    s2 = clf1.score(prepared_data,housing_test_labels)\n",
    "    print(s2)\n",
    "    pred1 = clf1.predict(t2)\n",
    "    p1.insert(0,str(pred1))"
   ]
  },
  {
   "cell_type": "code",
   "execution_count": 9,
   "id": "b3ee7283",
   "metadata": {},
   "outputs": [],
   "source": [
    "def dtr():\n",
    "    from sklearn.tree import DecisionTreeRegressor\n",
    "\n",
    "    clf3 = DecisionTreeRegressor()\n",
    "\n",
    "    t = pd.DataFrame(columns = ['bedrooms','bathrooms','sqft_living','sqft_lot','floors','waterfront','view','condition','grade','sqft_above','sqft_basement','lat','long','sqft_living15','sqft_lot15'])\n",
    "    t1 = t.append(pd.Series([Bedroom.get(),Bathroom.get(),Sqft_living.get(),Sqft_lot.get(),Floors.get(),Waterfront.get(),View.get(),Condition.get(),Grade.get(),Sqft_above.get(),Sqft_basement.get(),Lat.get(),Long.get(),Sqft_living15.get(),Sqft_lot15.get()],index=t.columns),ignore_index=True)\n",
    "    t2 = my_pipeline.transform(t1)\n",
    "    clf3.fit(housing_num_tr, housing_labels)\n",
    "    s3 = clf3.score(prepared_data,housing_test_labels)\n",
    "    print(s3)\n",
    "    pred3 = clf3.predict(t2)\n",
    "    p3.insert(0,str(pred3))"
   ]
  },
  {
   "cell_type": "code",
   "execution_count": 10,
   "id": "366e51ed",
   "metadata": {},
   "outputs": [],
   "source": [
    "def rfr():\n",
    "    from sklearn.ensemble import RandomForestRegressor\n",
    "\n",
    "    clf4 = RandomForestRegressor()\n",
    "\n",
    "    t = pd.DataFrame(columns = ['bedrooms','bathrooms','sqft_living','sqft_lot','floors','waterfront','view','condition','grade','sqft_above','sqft_basement','lat','long','sqft_living15','sqft_lot15'])\n",
    "    t1 = t.append(pd.Series([Bedroom.get(),Bathroom.get(),Sqft_living.get(),Sqft_lot.get(),Floors.get(),Waterfront.get(),View.get(),Condition.get(),Grade.get(),Sqft_above.get(),Sqft_basement.get(),Lat.get(),Long.get(),Sqft_living15.get(),Sqft_lot15.get()],index=t.columns),ignore_index=True)\n",
    "    t2 = my_pipeline.transform(t1)\n",
    "    clf4.fit(housing_num_tr, housing_labels)\n",
    "    s4 = clf4.score(prepared_data,housing_test_labels)\n",
    "    print(s4)\n",
    "    pred4 = clf4.predict(t2)\n",
    "    p4.insert(0,str(pred4))"
   ]
  },
  {
   "cell_type": "code",
   "execution_count": 11,
   "id": "cb1c4aea",
   "metadata": {},
   "outputs": [
    {
     "data": {
      "text/plain": [
       "''"
      ]
     },
     "execution_count": 11,
     "metadata": {},
     "output_type": "execute_result"
    }
   ],
   "source": [
    "root = Tk()\n",
    "root.configure(background='blue')\n",
    "root.title('Project')"
   ]
  },
  {
   "cell_type": "code",
   "execution_count": 12,
   "id": "6268aed8",
   "metadata": {},
   "outputs": [],
   "source": [
    "Bedroom = IntVar()\n",
    "Bedroom.set(1)\n",
    "Bathroom = IntVar()\n",
    "Bathroom.set(1)\n",
    "Floors = IntVar()\n",
    "Floors.set(1)\n",
    "Waterfront = IntVar()\n",
    "Waterfront.set(0)\n",
    "View = IntVar()\n",
    "View.set(0)\n",
    "Grade = IntVar()\n",
    "Grade.set(3)\n",
    "Sqft_living = IntVar()\n",
    "Sqft_living.set(370)\n",
    "Sqft_lot = IntVar()\n",
    "Sqft_lot.set(520)\n",
    "Sqft_above = IntVar()\n",
    "Sqft_above.set(370)\n",
    "Sqft_basement = IntVar()\n",
    "Sqft_basement.set(0)\n",
    "Condition = IntVar()\n",
    "Condition.set(1)\n",
    "Lat = IntVar()\n",
    "Lat.set(47.15)\n",
    "Long = IntVar()\n",
    "Long.set(-122.51)\n",
    "Sqft_living15  = IntVar()\n",
    "Sqft_living15.set(399)\n",
    "Sqft_lot15 = IntVar()\n",
    "Sqft_lot15.set(651)\n",
    "\n",
    "Name = StringVar()"
   ]
  },
  {
   "cell_type": "code",
   "execution_count": 13,
   "id": "d0aa8578",
   "metadata": {},
   "outputs": [],
   "source": [
    "w2 = Label(root, justify=LEFT, text=\"..........Real-Estate House Price Prediction..........\", fg=\"white\", bg=\"blue\")\n",
    "w2.config(font=(\"Elephant\", 30))\n",
    "w2.grid(row=1, column=0, columnspan=2, padx=100)"
   ]
  },
  {
   "cell_type": "code",
   "execution_count": 14,
   "id": "6f6eb3a3",
   "metadata": {},
   "outputs": [],
   "source": [
    "NameLb = Label(root, text=\"Name\", fg=\"yellow\", bg=\"black\")\n",
    "NameLb.grid(row=6, column=0, pady=10, sticky=W)"
   ]
  },
  {
   "cell_type": "code",
   "execution_count": 15,
   "id": "dfa8da55",
   "metadata": {},
   "outputs": [],
   "source": [
    "S1Lb = Label(root, text=\"Bedroom from 1 to 33\", fg=\"yellow\", bg=\"black\")\n",
    "S1Lb.grid(row=7, column=0, pady=8, sticky=W)\n",
    "\n",
    "S2Lb = Label(root, text=\"Bathroom from 1 to 8\", fg=\"yellow\", bg=\"black\")\n",
    "S2Lb.grid(row=8, column=0, pady=8, sticky=W)\n",
    "\n",
    "S3Lb = Label(root, text=\"Sqft_living from 370 to 13540\", fg=\"yellow\", bg=\"black\")\n",
    "S3Lb.grid(row=9, column=0, pady=8, sticky=W)\n",
    "\n",
    "S4Lb = Label(root, text=\"Sqft_lot from 520 to 1651359\", fg=\"yellow\", bg=\"black\")\n",
    "S4Lb.grid(row=10, column=0, pady=8, sticky=W)\n",
    "\n",
    "S5Lb = Label(root, text=\"Floors from 1 to 4\", fg=\"yellow\", bg=\"black\")\n",
    "S5Lb.grid(row=11, column=0, pady=8, sticky=W)\n",
    "\n",
    "S6Lb = Label(root, text=\"Waterfront from 0 to 1\", fg=\"yellow\", bg=\"black\")\n",
    "S6Lb.grid(row=12, column=0, pady=8, sticky=W)\n",
    "\n",
    "S7Lb = Label(root, text=\"View from 0 to 4\", fg=\"yellow\", bg=\"black\")\n",
    "S7Lb.grid(row=13, column=0, pady=8, sticky=W)\n",
    "\n",
    "S8Lb = Label(root, text=\"Condition from 1 to 5\", fg=\"yellow\", bg=\"black\")\n",
    "S8Lb.grid(row=14, column=0, pady=8, sticky=W)\n",
    "\n",
    "S9Lb = Label(root, text=\"Grade from 3 to 13\", fg=\"yellow\", bg=\"black\")\n",
    "S9Lb.grid(row=15, column=0, pady=8, sticky=W)\n",
    "\n",
    "S10Lb = Label(root, text=\"Sqft_above from 370 to 9410\", fg=\"yellow\", bg=\"black\")\n",
    "S10Lb.grid(row=16, column=0, pady=8, sticky=W)\n",
    "\n",
    "S11Lb = Label(root, text=\"Sqft_basement from 0 to 4820\", fg=\"yellow\", bg=\"black\")\n",
    "S11Lb.grid(row=17, column=0, pady=8, sticky=W)\n",
    "\n",
    "S12Lb = Label(root, text=\"Lat from 47.15 to 47.77\", fg=\"yellow\", bg=\"black\")\n",
    "S12Lb.grid(row=18, column=0, pady=8, sticky=W)\n",
    "\n",
    "S13Lb = Label(root, text=\"Long from -122.51 to -121.31\", fg=\"yellow\", bg=\"black\")\n",
    "S13Lb.grid(row=19, column=0, pady=8, sticky=W)\n",
    "\n",
    "S14Lb = Label(root, text=\"Sqft_living15 from 399 to 6210\", fg=\"yellow\", bg=\"black\")\n",
    "S14Lb.grid(row=20, column=0, pady=8, sticky=W)\n",
    "\n",
    "S15Lb = Label(root, text=\"Sqft_lot15 from 651 to 872100\", fg=\"yellow\", bg=\"black\")\n",
    "S15Lb.grid(row=21, column=0, pady=8, sticky=W)\n",
    "\n",
    "l1Lb = Label(root, text=\"GradientBoostingRegressor\", fg=\"white\", bg=\"red\")\n",
    "l1Lb.grid(row=24, column=0, pady=8,sticky=W)\n",
    "\n",
    "l3Lb = Label(root, text=\"DecisionTreeRegressor\", fg=\"white\", bg=\"red\")\n",
    "l3Lb.grid(row=25, column=0, pady=8,sticky=W)\n",
    "\n",
    "l4Lb = Label(root, text=\"RandomForestRegressor\", fg=\"white\", bg=\"red\")\n",
    "l4Lb.grid(row=26, column=0, pady=8,sticky=W)"
   ]
  },
  {
   "cell_type": "code",
   "execution_count": 16,
   "id": "7861399b",
   "metadata": {},
   "outputs": [],
   "source": [
    "NameEn = Entry(root, textvariable=Name)\n",
    "NameEn.grid(row=6, column=1)\n",
    "\n",
    "S1En = Spinbox(root, textvariable=Bedroom,from_=1,to=33)\n",
    "S1En.grid(row=7, column=1)\n",
    "\n",
    "S2En = Spinbox(root, textvariable=Bathroom,from_=1,to=8)\n",
    "S2En.grid(row=8, column=1)\n",
    "\n",
    "S3En = Spinbox(root, textvariable=Sqft_living,from_=370,to=13540)\n",
    "S3En.grid(row=9, column=1)\n",
    "\n",
    "S4En = Spinbox(root, textvariable=Sqft_lot,from_=520,to=1651359)\n",
    "S4En.grid(row=10, column=1)\n",
    "\n",
    "S5En = Spinbox(root, textvariable=Floors,from_=1,to=4)\n",
    "S5En.grid(row=11, column=1)\n",
    "\n",
    "S6En = Spinbox(root, textvariable=Waterfront,from_=0,to=1)\n",
    "S6En.grid(row=12, column=1)\n",
    "\n",
    "S7En = Spinbox(root, textvariable=View,from_=0,to=4)\n",
    "S7En.grid(row=13, column=1)\n",
    "\n",
    "S8En = Spinbox(root, textvariable=Condition,from_=1,to=5)\n",
    "S8En.grid(row=14, column=1)\n",
    "\n",
    "S9En = Spinbox(root, textvariable=Grade,from_=3,to=13)\n",
    "S9En.grid(row=15, column=1)\n",
    "\n",
    "S10En = Spinbox(root, textvariable=Sqft_above,from_=370,to=9410)\n",
    "S10En.grid(row=16, column=1)\n",
    "\n",
    "S11En = Spinbox(root, textvariable=Sqft_basement,from_=0,to=4820)\n",
    "S11En.grid(row=17, column=1)\n",
    "\n",
    "S12En = Spinbox(root, textvariable=Lat,from_=47.15,to=47.77)\n",
    "S12En.grid(row=18, column=1)\n",
    "\n",
    "S13En = Spinbox(root, textvariable=Long,from_=-122.51,to=-121.31)\n",
    "S13En.grid(row=19, column=1)\n",
    "\n",
    "S14En = Spinbox(root, textvariable=Sqft_living15,from_=399,to=6210)\n",
    "S14En.grid(row=20, column=1)\n",
    "\n",
    "S15En = Spinbox(root, textvariable=Sqft_lot15,from_=651,to=872100)\n",
    "S15En.grid(row=21, column=1)"
   ]
  },
  {
   "cell_type": "code",
   "execution_count": 17,
   "id": "fb20b64f",
   "metadata": {},
   "outputs": [],
   "source": [
    "b1 = Button(root, text=\"Price\", command=gbr,bg=\"green\",fg=\"yellow\")\n",
    "b1.grid(row=24, column=3,padx=10)\n",
    "\n",
    "\n",
    "b3 = Button(root, text=\"Price\", command=dtr,bg=\"green\",fg=\"yellow\")\n",
    "b3.grid(row=25, column=3,padx=10)\n",
    "\n",
    "b4 = Button(root, text=\"Price\", command=rfr,bg=\"green\",fg=\"yellow\")\n",
    "b4.grid(row=26, column=3,padx=10)"
   ]
  },
  {
   "cell_type": "code",
   "execution_count": 18,
   "id": "7367d3cc",
   "metadata": {},
   "outputs": [],
   "source": [
    "p1 = Entry(root)\n",
    "p1.grid(row=24, column=1, padx=10)\n",
    "\n",
    "p3 = Entry(root)\n",
    "p3.grid(row=25, column=1, padx=10)\n",
    "\n",
    "p4 = Entry(root)\n",
    "p4.grid(row=26, column=1, padx=10)\n",
    "\n",
    "root.mainloop()"
   ]
  },
  {
   "cell_type": "code",
   "execution_count": null,
   "id": "30241fe3",
   "metadata": {},
   "outputs": [],
   "source": []
  },
  {
   "cell_type": "code",
   "execution_count": null,
   "id": "e32b3b92",
   "metadata": {},
   "outputs": [],
   "source": []
  }
 ],
 "metadata": {
  "kernelspec": {
   "display_name": "Python 3 (ipykernel)",
   "language": "python",
   "name": "python3"
  },
  "language_info": {
   "codemirror_mode": {
    "name": "ipython",
    "version": 3
   },
   "file_extension": ".py",
   "mimetype": "text/x-python",
   "name": "python",
   "nbconvert_exporter": "python",
   "pygments_lexer": "ipython3",
   "version": "3.9.7"
  }
 },
 "nbformat": 4,
 "nbformat_minor": 5
}
